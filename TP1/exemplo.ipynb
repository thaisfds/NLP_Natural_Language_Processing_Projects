{
 "cells": [
  {
   "attachments": {},
   "cell_type": "markdown",
   "metadata": {},
   "source": [
    "Dependências"
   ]
  },
  {
   "cell_type": "code",
   "execution_count": 2,
   "metadata": {},
   "outputs": [
    {
     "name": "stdout",
     "output_type": "stream",
     "text": [
      "Defaulting to user installation because normal site-packages is not writeable\n",
      "Requirement already satisfied: gensim in /home/vip/victor.henrique/.local/lib/python3.10/site-packages (4.3.2)\n",
      "Requirement already satisfied: numpy>=1.18.5 in /home/vip/victor.henrique/.local/lib/python3.10/site-packages (from gensim) (1.23.5)\n",
      "Requirement already satisfied: smart-open>=1.8.1 in /home/vip/victor.henrique/.local/lib/python3.10/site-packages (from gensim) (6.4.0)\n",
      "Requirement already satisfied: scipy>=1.7.0 in /home/vip/victor.henrique/.local/lib/python3.10/site-packages (from gensim) (1.10.1)\n",
      "Note: you may need to restart the kernel to use updated packages.\n",
      "Defaulting to user installation because normal site-packages is not writeable\n",
      "Requirement already satisfied: nltk in /home/vip/victor.henrique/.local/lib/python3.10/site-packages (3.8.1)\n",
      "Requirement already satisfied: click in /home/vip/victor.henrique/.local/lib/python3.10/site-packages (from nltk) (8.1.7)\n",
      "Requirement already satisfied: regex>=2021.8.3 in /home/vip/victor.henrique/.local/lib/python3.10/site-packages (from nltk) (2023.10.3)\n",
      "Requirement already satisfied: joblib in /home/vip/victor.henrique/.local/lib/python3.10/site-packages (from nltk) (1.2.0)\n",
      "Requirement already satisfied: tqdm in /home/vip/victor.henrique/.local/lib/python3.10/site-packages (from nltk) (4.66.1)\n",
      "Note: you may need to restart the kernel to use updated packages.\n"
     ]
    }
   ],
   "source": [
    "%pip install gensim\n",
    "%pip install nltk\n",
    "\n",
    "from sklearn.model_selection import ParameterGrid\n",
    "from gensim.models.word2vec import LineSentence\n",
    "from gensim.models import Word2Vec\n",
    "from nltk.tokenize import word_tokenize\n",
    "from nltk.corpus import stopwords\n",
    "import nltk\n",
    "import random\n",
    "from nltk.stem import PorterStemmer\n",
    "from nltk.stem import WordNetLemmatizer\n",
    "from nltk.tokenize import word_tokenize"
   ]
  },
  {
   "attachments": {},
   "cell_type": "markdown",
   "metadata": {},
   "source": [
    "Pré-processamento do corpus, são aplicadas as operações de lowercasing, remoção de stopwords e lemmatization (um tipo de stemming). Os tokens são agrupados em sentenças de tamanho 10."
   ]
  },
  {
   "cell_type": "code",
   "execution_count": 3,
   "metadata": {},
   "outputs": [
    {
     "name": "stdout",
     "output_type": "stream",
     "text": [
      "17005207\n"
     ]
    },
    {
     "name": "stderr",
     "output_type": "stream",
     "text": [
      "[nltk_data] Downloading package stopwords to\n",
      "[nltk_data]     /home/vip/victor.henrique/nltk_data...\n",
      "[nltk_data]   Package stopwords is already up-to-date!\n"
     ]
    },
    {
     "name": "stdout",
     "output_type": "stream",
     "text": [
      "Lowercasing...\n",
      "Removing stopwords...\n",
      "Lemmatizing...\n",
      "Grouping into sentences...\n",
      "10890638\n"
     ]
    }
   ],
   "source": [
    "def preprocessWord(word):\n",
    "    word = word.lower().strip()\n",
    "    \n",
    "    if word in stop_words:\n",
    "        return None\n",
    "    \n",
    "    word = lemmatizer.lemmatize(word)\n",
    "\n",
    "    return word\n",
    "\n",
    "# Load the corpus\n",
    "corpus = LineSentence('corpus.txt')\n",
    "docs = [doc for doc in corpus]\n",
    "tokens = []\n",
    "for doc in docs:\n",
    "    tokens.extend(doc)\n",
    "print(len(tokens))\n",
    "\n",
    "nltk.download('stopwords')\n",
    "stop_words = stopwords.words('english')\n",
    "lemmatizer = WordNetLemmatizer()\n",
    "\n",
    "print(\"Lowercasing...\")\n",
    "tokens = [token.lower() for token in tokens]\n",
    "\n",
    "print(\"Removing stopwords...\")\n",
    "tokens = [token for token in tokens if token not in stop_words]\n",
    "\n",
    "print(\"Lemmatizing...\")\n",
    "tokens = [lemmatizer.lemmatize(token) for token in tokens]\n",
    "\n",
    "print(\"Grouping into sentences...\")\n",
    "sentences = []\n",
    "sentence = []\n",
    "counter = 0\n",
    "words_per_sentence = 10\n",
    "for token in tokens:\n",
    "    counter += 1\n",
    "    if counter > words_per_sentence:\n",
    "        sentences.append(sentence)\n",
    "        sentence = [token]\n",
    "        counter = 1\n",
    "        continue\n",
    "\n",
    "    sentence.append(token)\n",
    "\n",
    "print(len(tokens))\n",
    "with open('sentences.txt', 'w') as f:\n",
    "    for sentence in sentences:\n",
    "        f.write(' '.join(sentence) + '\\n')"
   ]
  },
  {
   "attachments": {},
   "cell_type": "markdown",
   "metadata": {},
   "source": [
    "Removendo palavras desconhecidas do conjunto de avaliação e amostrando o restante para que a etapa de avaliação seja mais rápida. Um conjunto de avaliação composto de mais de 500 analogias não traz impacto significativo na avaliação do modelo."
   ]
  },
  {
   "cell_type": "code",
   "execution_count": 4,
   "metadata": {},
   "outputs": [],
   "source": [
    "def getAnalogiesForModel(model):\n",
    "    final_analogies = []\n",
    "    with open(\"questions-words.txt\") as f:\n",
    "        for line in f:\n",
    "            if line.startswith(\":\"):\n",
    "                continue\n",
    "\n",
    "            line = line.split()\n",
    "            words = line[:3]\n",
    "            words = [preprocessWord(word) for word in words if preprocessWord(word) is not None]\n",
    "            target = preprocessWord(line[3])\n",
    "\n",
    "            if target not in model.wv or target is None:\n",
    "                continue\n",
    "            \n",
    "            final_words = []\n",
    "            for word in words:\n",
    "                if word in model.wv:\n",
    "                    final_words.append(word)\n",
    "\n",
    "            if len(final_words) == 0:\n",
    "                continue\n",
    "\n",
    "            final_analogies.append(final_words + [target])\n",
    "\n",
    "    # Randomly truncate the analogies\n",
    "    random.shuffle(final_analogies)\n",
    "    final_analogies = final_analogies[:500]\n",
    "    return final_analogies"
   ]
  },
  {
   "attachments": {},
   "cell_type": "markdown",
   "metadata": {},
   "source": [
    "Implementando o esquema de avaliação proposto"
   ]
  },
  {
   "cell_type": "code",
   "execution_count": 5,
   "metadata": {},
   "outputs": [],
   "source": [
    "def distanceToMostSimilarWord(model, input_words: list, true_word: str) -> float:\n",
    "    similar_words = model.wv.most_similar(input_words)\n",
    "    most_similar_word = similar_words[0][0]\n",
    "    return model.wv.distance(true_word, most_similar_word)\n",
    "\n",
    "def evaluateModel(model):\n",
    "    analogies = getAnalogiesForModel(model)\n",
    "    nb_lines = len(analogies)\n",
    "    avg_distance = 0\n",
    "    counter = 0\n",
    "    for analogy in analogies:\n",
    "        counter += 1\n",
    "        words = analogy[:-1]\n",
    "        target = analogy[-1]\n",
    "\n",
    "        distance = distanceToMostSimilarWord(model, words, target)\n",
    "        avg_distance += distance\n",
    "\n",
    "    avg_distance = avg_distance / counter\n",
    "    return avg_distance"
   ]
  },
  {
   "attachments": {},
   "cell_type": "markdown",
   "metadata": {},
   "source": [
    "Performando uma grid-search para encontrar uma combinação ótima de hiperparâmetros. "
   ]
  },
  {
   "cell_type": "code",
   "execution_count": null,
   "metadata": {},
   "outputs": [],
   "source": [
    "param_grid = {\n",
    "    'sg': [0, 1], # 1 = skip-gram, 0 = CBOW\n",
    "    'vector_size': [50, 100, 200],\n",
    "    'window': [2, 5, 10],\n",
    "    'min_count': [1, 2, 3],\n",
    "}\n",
    "\n",
    "grid = list(ParameterGrid(param_grid))\n",
    "\n",
    "best_score = float('inf')\n",
    "best_params = None\n",
    "\n",
    "for params in grid:\n",
    "    model = Word2Vec(sentences=sentences, **params)\n",
    "    score = evaluateModel(model)\n",
    "\n",
    "    if score < best_score:\n",
    "        best_score = score\n",
    "        best_params = params\n",
    "\n",
    "        print(f\"New best score found => {params}: {score}\")\n",
    "\n",
    "print(f\"Best parameters: {best_params}\")\n",
    "print(f\"Best score: {best_score}\")"
   ]
  },
  {
   "attachments": {},
   "cell_type": "markdown",
   "metadata": {},
   "source": [
    "Escolhendo o melhor modelo encontrado através do grid-search"
   ]
  },
  {
   "cell_type": "code",
   "execution_count": 6,
   "metadata": {},
   "outputs": [],
   "source": [
    "model = Word2Vec(sentences=sentences, min_count=1, sg=1, vector_size=50, window=2)"
   ]
  },
  {
   "cell_type": "code",
   "execution_count": 7,
   "metadata": {},
   "outputs": [
    {
     "name": "stdout",
     "output_type": "stream",
     "text": [
      "0.25681810003519057\n"
     ]
    }
   ],
   "source": [
    "score = evaluateModel(model)\n",
    "print(score)"
   ]
  },
  {
   "attachments": {},
   "cell_type": "markdown",
   "metadata": {},
   "source": [
    "Por curiosidade abaixo está a melhor e a pior predição do modelo dentro do conjunto de avaliação utilizado."
   ]
  },
  {
   "cell_type": "code",
   "execution_count": 10,
   "metadata": {},
   "outputs": [
    {
     "name": "stdout",
     "output_type": "stream",
     "text": [
      "Min distance: 0.0\n",
      "Context: ['see', 'seeing', 'look'], target: looking, prediction: looking\n",
      "\n",
      "Max distance: 0.5434837341308594\n",
      "Context: ['playing', 'played', 'increasing'], target: increased, prediction: play\n"
     ]
    }
   ],
   "source": [
    "analogies = getAnalogiesForModel(model)\n",
    "min_distance = float('inf')\n",
    "min_case = [[], \"\"]\n",
    "max_distance = float('-inf')\n",
    "max_case = [[], \"\"]\n",
    "\n",
    "for analogy in analogies:\n",
    "    counter += 1\n",
    "    words = analogy[:-1]\n",
    "    target = analogy[-1]\n",
    "\n",
    "    distance = distanceToMostSimilarWord(model, words, target)\n",
    "    \n",
    "    if distance < min_distance:\n",
    "        min_distance = distance\n",
    "        min_case[0] = words\n",
    "        min_case[1] = target\n",
    "    \n",
    "    if distance > max_distance:\n",
    "        max_distance = distance\n",
    "        max_case[0] = words\n",
    "        max_case[1] = target\n",
    "\n",
    "print(f\"Min distance: {min_distance}\")\n",
    "print(f\"Context: {min_case[0]}, target: {min_case[1]}, prediction: {model.wv.most_similar(min_case[0])[0][0]}\")\n",
    "print()\n",
    "print(f\"Max distance: {max_distance}\")\n",
    "print(f\"Context: {max_case[0]}, target: {max_case[1]}, prediction: {model.wv.most_similar(max_case[0])[0][0]}\")"
   ]
  }
 ],
 "metadata": {
  "kernelspec": {
   "display_name": "Python 3",
   "language": "python",
   "name": "python3"
  },
  "language_info": {
   "codemirror_mode": {
    "name": "ipython",
    "version": 3
   },
   "file_extension": ".py",
   "mimetype": "text/x-python",
   "name": "python",
   "nbconvert_exporter": "python",
   "pygments_lexer": "ipython3",
   "version": "3.10.12"
  },
  "orig_nbformat": 4
 },
 "nbformat": 4,
 "nbformat_minor": 2
}
