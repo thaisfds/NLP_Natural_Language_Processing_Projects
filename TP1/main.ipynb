{
 "cells": [
  {
   "cell_type": "markdown",
   "metadata": {},
   "source": [
    "# Processamento de Linguagem Natural - Trabalho Prático 1\n",
    "### Thaís Ferreira da Silva - 2021092571"
   ]
  },
  {
   "cell_type": "markdown",
   "metadata": {},
   "source": [
    "### Import"
   ]
  },
  {
   "cell_type": "code",
   "execution_count": 53,
   "metadata": {},
   "outputs": [],
   "source": [
    "# Imports do gensim - para word2vec\n",
    "import gensim\n",
    "from gensim.models import Word2Vec\n",
    "from gensim.models.word2vec import Text8Corpus\n",
    "\n",
    "#Imports do NLTK\n",
    "import nltk\n",
    "from nltk.corpus import stopwords\n",
    "from nltk.stem import WordNetLemmatizer\n",
    "\n",
    "# Imports essenciais\n",
    "import os\n",
    "import random"
   ]
  },
  {
   "cell_type": "markdown",
   "metadata": {},
   "source": [
    "### Preprocessamento do dados de treino"
   ]
  },
  {
   "cell_type": "code",
   "execution_count": 54,
   "metadata": {},
   "outputs": [
    {
     "name": "stdout",
     "output_type": "stream",
     "text": [
      "['anarchism', 'originated', 'as', 'a', 'term', 'of', 'abuse', 'first', 'used', 'against', 'early', 'working', 'class', 'radicals', 'including', 'the', 'diggers', 'of', 'the', 'english', 'revolution', 'and', 'the', 'sans', 'culottes', 'of', 'the', 'french', 'revolution', 'whilst', 'the', 'term', 'is', 'still', 'used', 'in', 'a', 'pejorative', 'way', 'to', 'describe', 'any', 'act', 'that', 'used', 'violent', 'means', 'to', 'destroy', 'the']\n"
     ]
    }
   ],
   "source": [
    "text8_path = './text8'\n",
    "questions_words_path = os.path.abspath('./mini-questions-words.txt')\n",
    "corpus = Text8Corpus(text8_path)\n",
    "\n",
    "# Visualizando as primeiras palavras do corpus\n",
    "sentence = next(iter(corpus))\n",
    "print(sentence[:50])\n",
    "\n"
   ]
  },
  {
   "cell_type": "markdown",
   "metadata": {},
   "source": [
    "### Treinamento do modelo Word2Vec"
   ]
  },
  {
   "cell_type": "code",
   "execution_count": 55,
   "metadata": {},
   "outputs": [],
   "source": [
    "def generate_hyperparameter_combinations(param_grid):\n",
    "    from itertools import product\n",
    "    keys, values = zip(*param_grid.items())\n",
    "    combinations = [dict(zip(keys, v)) for v in product(*values)]\n",
    "    return combinations\n"
   ]
  },
  {
   "cell_type": "code",
   "execution_count": 56,
   "metadata": {},
   "outputs": [],
   "source": [
    "def train_and_save_model(corpus, params, output_dir):\n",
    "    model_name = f\"word2vec_vs{params['vector_size']}_win{params['window']}_sg{params['sg']}_ep{params['epochs']}\"\n",
    "    print(f\"Treinando modelo: {model_name}\")\n",
    "    \n",
    "    model = Word2Vec(\n",
    "        sentences=corpus,\n",
    "        vector_size=params['vector_size'],\n",
    "        window=params['window'],\n",
    "        sg=params['sg'],\n",
    "        epochs=params['epochs']\n",
    "    )\n",
    "    \n",
    "    model_path = os.path.join(output_dir, f\"{model_name}.model\")\n",
    "    model.save(model_path)\n",
    "    print(f\"Modelo salvo: {model_path}\")\n",
    "    \n",
    "    return model"
   ]
  },
  {
   "cell_type": "code",
   "execution_count": 57,
   "metadata": {},
   "outputs": [],
   "source": [
    "output_dir = './word2vec_models'\n",
    "os.makedirs(output_dir, exist_ok=True)\n",
    "\n",
    "# Hiperparâmetros para o GridSearch\n",
    "# param_grid = {\n",
    "#     'vector_size': [50, 100, 200],      # Tamanho do vetor de palavras\n",
    "#     'window': [3, 5, 7],                # Tamanho da janela de contexto\n",
    "#     'sg': [0, 1],                      # CBOW (0) ou Skip-gram (1)\n",
    "#     'epochs': [5, 10, 15],             # Número de iterações de treinamento\n",
    "# }\n",
    "\n",
    "param_grid = {\n",
    "    'vector_size': [50],      # Tamanho do vetor de palavras\n",
    "    'window': [2],                # Tamanho da janela de contexto\n",
    "    'sg': [1],                      # CBOW (0) ou Skip-gram (1)\n",
    "    'epochs': [2],             # Número de iterações de treinamento\n",
    "}\n",
    "\n",
    "# Gerar combinações de hiperparâmetros\n",
    "combinations = generate_hyperparameter_combinations(param_grid)"
   ]
  },
  {
   "cell_type": "code",
   "execution_count": 58,
   "metadata": {},
   "outputs": [
    {
     "name": "stdout",
     "output_type": "stream",
     "text": [
      "\n",
      "Treinando combinação 1/1: {'vector_size': 50, 'window': 2, 'sg': 1, 'epochs': 2}\n",
      "\n",
      "Treinando modelo: word2vec_vs50_win2_sg1_ep2\n",
      "Modelo salvo: ./word2vec_models/word2vec_vs50_win2_sg1_ep2.model\n"
     ]
    }
   ],
   "source": [
    "for i, params in enumerate(combinations):\n",
    "    print(f\"\\nTreinando combinação {i+1}/{len(combinations)}: {params}\\n\")\n",
    "    model = train_and_save_model(corpus, params, output_dir)"
   ]
  },
  {
   "cell_type": "markdown",
   "metadata": {},
   "source": [
    "### Avaliação do modelo treinado"
   ]
  },
  {
   "cell_type": "code",
   "execution_count": 59,
   "metadata": {},
   "outputs": [],
   "source": [
    "stop_words = stopwords.words('english')\n",
    "lemmatizer = WordNetLemmatizer()"
   ]
  },
  {
   "cell_type": "code",
   "execution_count": 60,
   "metadata": {},
   "outputs": [],
   "source": [
    "def preprocessWord(word):\n",
    "    if word is not None:\n",
    "        word = word.lower().strip()\n",
    "        if word in stop_words:\n",
    "            return None\n",
    "        word = lemmatizer.lemmatize(word)\n",
    "\n",
    "    return word"
   ]
  },
  {
   "cell_type": "code",
   "execution_count": 61,
   "metadata": {},
   "outputs": [],
   "source": [
    "def get_analogies(model, questions_words_path):\n",
    "    final_analogies = []\n",
    "    with open(questions_words_path, 'r') as f:\n",
    "        for line in f:\n",
    "            if line.startswith(':'):\n",
    "                continue\n",
    "\n",
    "            words = [preprocessWord(word) for word in line.split()]\n",
    "\n",
    "            final_words = [word for word in words if word in model.wv]\n",
    "            final_analogies.append(final_words)\n",
    "    \n",
    "    random.shuffle(final_analogies)\n",
    "    return final_analogies"
   ]
  },
  {
   "cell_type": "code",
   "execution_count": 62,
   "metadata": {},
   "outputs": [
    {
     "name": "stdout",
     "output_type": "stream",
     "text": [
      "numero de analogias  22\n",
      "['athens', 'greece', 'berlin', 'germany'] [('berlin', 0.8309546709060669), ('manhattan', 0.8087501525878906), ('edinburgh', 0.8067633509635925), ('philadelphia', 0.8064784407615662), ('bristol', 0.806315004825592), ('fort', 0.7960829138755798), ('birmingham', 0.7891896367073059), ('cemetery', 0.7830525040626526), ('richmond', 0.7792342305183411), ('pittsburgh', 0.7782689929008484), ('leicester', 0.7735268473625183), ('abbey', 0.7693635821342468), ('chicago', 0.7659742832183838), ('brooklyn', 0.7647572755813599), ('palace', 0.7644233703613281), ('hotel', 0.7625153064727783), ('baltimore', 0.7625142335891724), ('nottingham', 0.7623006105422974), ('conservatory', 0.7622580528259277), ('wembley', 0.7621303200721741)]\n",
      "['athens', 'greece', 'moscow', 'russia'] [('wembley', 0.8364171981811523), ('moscow', 0.8303816318511963), ('cincinnati', 0.8212544918060303), ('pittsburgh', 0.8208373785018921), ('philadelphia', 0.8169144988059998), ('palace', 0.8120541572570801), ('nashville', 0.8083674311637878), ('manhattan', 0.8052125573158264), ('edinburgh', 0.8051295280456543), ('waterloo', 0.8038958311080933), ('bristol', 0.798337459564209), ('gettysburg', 0.797848641872406), ('attending', 0.7902214527130127), ('jacksonville', 0.7895318269729614), ('oakland', 0.7893967032432556), ('birmingham', 0.7888633608818054), ('milwaukee', 0.7871303558349609), ('atlanta', 0.7859424948692322), ('lambeth', 0.7855373024940491), ('nottingham', 0.7850152850151062)]\n",
      "['athens', 'greece', 'kabul', 'afghanistan'] [('wembley', 0.841846764087677), ('kabul', 0.8315167427062988), ('palace', 0.8040381073951721), ('athens', 0.7973616719245911), ('pittsburgh', 0.7952658534049988), ('bristol', 0.7943227887153625), ('fort', 0.7886304259300232), ('manhattan', 0.7877680659294128), ('tennessee', 0.787350058555603), ('eton', 0.7863708138465881), ('waterloo', 0.7862915396690369), ('plymouth', 0.7862507104873657), ('airfield', 0.7858017086982727), ('nashville', 0.7839621901512146), ('oakland', 0.7836542725563049), ('fenway', 0.7826199531555176), ('philadelphia', 0.7824615836143494), ('nottingham', 0.7819340229034424), ('greenwich', 0.7818097472190857), ('castle', 0.7790641784667969)]\n",
      "['athens', 'greece', 'islamabad', 'pakistan'] [('eton', 0.7548385262489319), ('wembley', 0.7201757431030273), ('oriole', 0.6998803019523621), ('pittsburgh', 0.6945896148681641), ('bletchley', 0.6922255158424377), ('yankee', 0.688548743724823), ('hotel', 0.683454155921936), ('urbana', 0.6795857548713684), ('ucla', 0.6792494654655457), ('attending', 0.6791418194770813), ('covent', 0.6787946224212646), ('mansion', 0.6725831627845764), ('fenway', 0.6724051237106323), ('arrowhead', 0.6685416102409363), ('conservatory', 0.6683715581893921), ('miami', 0.6676868200302124), ('wartburg', 0.6668872237205505), ('glendale', 0.6640774011611938), ('whitehall', 0.6629235148429871), ('arrives', 0.6596704721450806)]\n",
      "['athens', 'greece', 'canberra', 'australia'] [('bristol', 0.8531717658042908), ('arlington', 0.8404133915901184), ('wembley', 0.8316744565963745), ('manhattan', 0.8279374241828918), ('philadelphia', 0.8230046033859253), ('florida', 0.82060706615448), ('tennessee', 0.8198663592338562), ('pittsburgh', 0.8178603053092957), ('springfield', 0.8174846768379211), ('ithaca', 0.8174304962158203), ('newport', 0.8159652948379517), ('bletchley', 0.8145883679389954), ('miami', 0.8145768046379089), ('exeter', 0.8123565912246704), ('nashville', 0.8114417195320129), ('grove', 0.8114237189292908), ('conservatory', 0.8109533786773682), ('pasadena', 0.8108180165290833), ('camden', 0.8100288510322571), ('boulder', 0.8099686503410339)]\n",
      "['athens', 'greece', 'tehran', 'iran'] [('wembley', 0.822798490524292), ('eton', 0.8174147009849548), ('pittsburgh', 0.8086662292480469), ('philadelphia', 0.7943211197853088), ('bristol', 0.7902715802192688), ('bletchley', 0.7889536023139954), ('conservatory', 0.7867526412010193), ('yankee', 0.780380129814148), ('nottingham', 0.7766526937484741), ('hotel', 0.7762274146080017), ('manhattan', 0.7747446298599243), ('arlington', 0.7717595100402832), ('miami', 0.7709079384803772), ('athletics', 0.7694894075393677), ('jacksonville', 0.767517626285553), ('pasadena', 0.767170786857605), ('edinburgh', 0.765338122844696), ('ithaca', 0.7649338245391846), ('attending', 0.7636662721633911), ('whitehall', 0.7634206414222717)]\n",
      "['athens', 'greece', 'madrid', 'spain'] [('wembley', 0.8470653295516968), ('miami', 0.8211609125137329), ('madrid', 0.8189073801040649), ('oakland', 0.8065935373306274), ('hotel', 0.8055561780929565), ('seattle', 0.7966918349266052), ('brooklyn', 0.7957246899604797), ('pittsburgh', 0.7936269044876099), ('yankee', 0.7839670181274414), ('bristol', 0.7838550806045532), ('philadelphia', 0.783549427986145), ('fort', 0.7772738933563232), ('dodgers', 0.7762049436569214), ('vegas', 0.7752604484558105), ('arrives', 0.7725043296813965), ('jacksonville', 0.7713873982429504), ('baltimore', 0.7708045840263367), ('diego', 0.7701548337936401), ('camden', 0.7699354887008667), ('rams', 0.7680670619010925)]\n",
      "['athens', 'greece', 'baghdad', 'iraq'] [('wembley', 0.851531445980072), ('manhattan', 0.8284873366355896), ('greenwich', 0.8145807385444641), ('waterloo', 0.8136367201805115), ('athens', 0.8096019625663757), ('philadelphia', 0.7949599623680115), ('plymouth', 0.7944795489311218), ('cincinnati', 0.792633056640625), ('fenway', 0.7915223836898804), ('yankee', 0.7874868512153625), ('bletchley', 0.7849141359329224), ('lambeth', 0.7841776013374329), ('baghdad', 0.7833938598632812), ('nashville', 0.7830672860145569), ('dayton', 0.7826529741287231), ('bristol', 0.7813328504562378), ('marathon', 0.7809642553329468), ('kabul', 0.7788050770759583), ('maryland', 0.7782799601554871), ('gettysburg', 0.7778488993644714)]\n",
      "['athens', 'greece', 'tokyo', 'japan'] [('bristol', 0.8491641879081726), ('pittsburgh', 0.839440107345581), ('hotel', 0.833155632019043), ('atlanta', 0.8310828804969788), ('seattle', 0.8294706344604492), ('wembley', 0.8285973072052002), ('miami', 0.8247087001800537), ('manhattan', 0.8243792653083801), ('philadelphia', 0.8241294622421265), ('tokyo', 0.8235206604003906), ('cincinnati', 0.8173749446868896), ('springfield', 0.8143991231918335), ('bletchley', 0.8122110962867737), ('birmingham', 0.8099802136421204), ('athletics', 0.8091436624526978), ('melbourne', 0.8086588978767395), ('honolulu', 0.8080606460571289), ('newport', 0.8070967793464661), ('milwaukee', 0.806877851486206), ('yankee', 0.8062497973442078)]\n",
      "['athens', 'greece', 'helsinki', 'finland'] [('honolulu', 0.869841992855072), ('boulder', 0.8621765375137329), ('colorado', 0.8574805855751038), ('ithaca', 0.8540888428688049), ('bristol', 0.8524539470672607), ('newport', 0.8493943214416504), ('manhattan', 0.8463515639305115), ('florida', 0.8452889323234558), ('arlington', 0.8445883989334106), ('leeds', 0.8435637950897217), ('bletchley', 0.8434563875198364), ('fenway', 0.842380940914154), ('dayton', 0.8395653963088989), ('cardiff', 0.8375604152679443), ('helsinki', 0.8362827897071838), ('springfield', 0.8336909413337708), ('downtown', 0.8336904644966125), ('plaza', 0.8335657119750977), ('nevada', 0.8328346014022827), ('oregon', 0.8315219879150391)]\n",
      "['athens', 'greece', 'ottawa', 'canada'] [('bristol', 0.8403396606445312), ('arlington', 0.8320528864860535), ('florida', 0.824256181716919), ('tennessee', 0.8139500617980957), ('nevada', 0.8117183446884155), ('portland', 0.8097713589668274), ('miami', 0.8094947934150696), ('ohio', 0.8089036345481873), ('newport', 0.8054230213165283), ('pittsburgh', 0.8053721785545349), ('oregon', 0.8043108582496643), ('oklahoma', 0.8041158318519592), ('monterey', 0.8014757633209229), ('riverside', 0.8001785278320312), ('philadelphia', 0.7989669442176819), ('fort', 0.7987824082374573), ('wembley', 0.7975659370422363), ('cemetery', 0.7974404096603394), ('exeter', 0.7961301207542419), ('richmond', 0.7956032752990723)]\n",
      "['athens', 'greece', 'paris', 'france'] [('paris', 0.8779412508010864), ('philadelphia', 0.7353115081787109), ('fort', 0.7297222018241882), ('bristol', 0.7157649993896484), ('villa', 0.7125276327133179), ('eton', 0.7119252681732178), ('venice', 0.7118800282478333), ('milan', 0.7118086218833923), ('pittsburgh', 0.7108798623085022), ('san', 0.7078267335891724), ('bologna', 0.7069404125213623), ('conservatory', 0.7056252956390381), ('florence', 0.7050988674163818), ('wembley', 0.7043694853782654), ('vienna', 0.7003716230392456), ('richmond', 0.6965746283531189), ('nottingham', 0.694532036781311), ('hotel', 0.688069224357605), ('cemetery', 0.687994122505188), ('syracuse', 0.6876646280288696)]\n",
      "['athens', 'greece', 'havana', 'cuba'] [('pittsburgh', 0.8509649038314819), ('wembley', 0.840486466884613), ('philadelphia', 0.8319305777549744), ('miami', 0.8245158791542053), ('memphis', 0.8244537711143494), ('baltimore', 0.8197387456893921), ('dodgers', 0.8124225735664368), ('yankee', 0.8110918998718262), ('nashville', 0.8093814849853516), ('fort', 0.809280276298523), ('oakland', 0.8090977072715759), ('bristol', 0.8065094351768494), ('jacksonville', 0.805829644203186), ('dallas', 0.8034583926200867), ('milwaukee', 0.8023074865341187), ('vegas', 0.8010302782058716), ('hotel', 0.7947470545768738), ('cincinnati', 0.7908234596252441), ('rangers', 0.7899990081787109), ('mansion', 0.7899571657180786)]\n",
      "['athens', 'greece', 'oslo', 'norway'] [('philadelphia', 0.8720343112945557), ('pittsburgh', 0.8646242022514343), ('wembley', 0.8542720079421997), ('nottingham', 0.8365711569786072), ('baltimore', 0.8317503929138184), ('lambeth', 0.8310861587524414), ('indianapolis', 0.8275812864303589), ('birmingham', 0.8270655870437622), ('nashville', 0.824079155921936), ('yankee', 0.8216517567634583), ('waterloo', 0.8196418285369873), ('bologna', 0.8195658326148987), ('jfk', 0.8188059329986572), ('cincinnati', 0.8187429308891296), ('milwaukee', 0.8186572790145874), ('jacksonville', 0.8155752420425415), ('dodgers', 0.814932107925415), ('bristol', 0.8140990138053894), ('richmond', 0.811424970626831), ('miami', 0.8099234700202942)]\n",
      "['athens', 'greece', 'rome', 'italy'] [('rome', 0.8520154356956482), ('athens', 0.791276216506958), ('monastery', 0.774644672870636), ('paris', 0.7695927619934082), ('constantinople', 0.7586840987205505), ('convent', 0.7555468082427979), ('jerusalem', 0.7555147409439087), ('palace', 0.755455493927002), ('florence', 0.7517110705375671), ('mecca', 0.750766396522522), ('temple', 0.7501550912857056), ('antioch', 0.7451300621032715), ('pilgrimage', 0.7427893280982971), ('chapel', 0.7425492405891418), ('buckingham', 0.7394492030143738), ('abbey', 0.738690972328186), ('milan', 0.7384274005889893), ('ephesus', 0.7365687489509583), ('venice', 0.7359919548034668), ('eton', 0.7351510524749756)]\n",
      "['athens', 'greece', 'bern', 'switzerland'] [('eton', 0.8237290382385254), ('conservatory', 0.7941856980323792), ('philadelphia', 0.7913751006126404), ('grove', 0.790286660194397), ('arlington', 0.7888858318328857), ('pittsburgh', 0.7872462272644043), ('hotel', 0.7861124277114868), ('bristol', 0.7834618091583252), ('urbana', 0.7784462571144104), ('wembley', 0.7772821187973022), ('pasadena', 0.7763499617576599), ('college', 0.7715029120445251), ('nottingham', 0.7709900140762329), ('monterey', 0.770500659942627), ('riverside', 0.7682791352272034), ('yankee', 0.7678796052932739), ('boulder', 0.7658940553665161), ('cemetery', 0.7656771540641785), ('fort', 0.7650319933891296), ('richmond', 0.7648439407348633)]\n",
      "['athens', 'greece', 'bangkok', 'thailand'] [('eton', 0.7649607062339783), ('wembley', 0.7616597414016724), ('pittsburgh', 0.7595664262771606), ('hotel', 0.7429050803184509), ('yankee', 0.7421404719352722), ('miami', 0.7401645183563232), ('bletchley', 0.7388197779655457), ('fenway', 0.7191528677940369), ('philadelphia', 0.7139915227890015), ('urbana', 0.7122630476951599), ('oriole', 0.7099369764328003), ('ucla', 0.7096275091171265), ('covent', 0.7092421054840088), ('arrowhead', 0.7089149951934814), ('riverside', 0.7082436084747314), ('cannes', 0.7075692415237427), ('bristol', 0.707085371017456), ('vegas', 0.7062886357307434), ('ranch', 0.7054489850997925), ('beverly', 0.7041327953338623)]\n",
      "['athens', 'greece', 'stockholm', 'sweden'] [('bristol', 0.8610723614692688), ('philadelphia', 0.8480287194252014), ('pittsburgh', 0.8407676815986633), ('arlington', 0.834144651889801), ('springfield', 0.8327109813690186), ('conservatory', 0.8318406343460083), ('richmond', 0.8253955841064453), ('pasadena', 0.8229799270629883), ('nottingham', 0.8215509653091431), ('birmingham', 0.8200815916061401), ('ohio', 0.8156139254570007), ('miami', 0.815076470375061), ('illinois', 0.8143024444580078), ('newport', 0.8138116002082825), ('milwaukee', 0.8128646612167358), ('stockholm', 0.8121862411499023), ('grove', 0.8116500973701477), ('tennessee', 0.8106206059455872), ('wembley', 0.8085565567016602), ('oklahoma', 0.8078613877296448)]\n",
      "['athens', 'greece', 'cairo', 'egypt'] [('bristol', 0.8456000685691833), ('exeter', 0.8409804701805115), ('ithaca', 0.8377538323402405), ('manhattan', 0.8279647827148438), ('cairo', 0.8244655728340149), ('cemetery', 0.8243629932403564), ('philadelphia', 0.8227398991584778), ('leeds', 0.821159839630127), ('wembley', 0.8209202289581299), ('arlington', 0.8200919032096863), ('florida', 0.8176778554916382), ('edinburgh', 0.8165283799171448), ('greenwich', 0.8159465789794922), ('fort', 0.815442681312561), ('pittsburgh', 0.814160168170929), ('atlanta', 0.8106848001480103), ('bletchley', 0.8074266910552979), ('newport', 0.8073527216911316), ('cincinnati', 0.8042590618133545), ('miami', 0.8034956455230713)]\n",
      "['athens', 'greece', 'hanoi', 'vietnam'] [('eton', 0.7868840098381042), ('wembley', 0.7705075144767761), ('oriole', 0.7468414902687073), ('yankee', 0.7406586408615112), ('pittsburgh', 0.7313292026519775), ('arrowhead', 0.7277666926383972), ('covent', 0.72475665807724), ('bletchley', 0.7212873101234436), ('cafe', 0.7198120951652527), ('wrigley', 0.7190566658973694), ('hotel', 0.7171490788459778), ('mansion', 0.7138158082962036), ('miami', 0.7137156128883362), ('glastonbury', 0.7109927535057068), ('urbana', 0.7102289795875549), ('holyroodhouse', 0.7099347114562988), ('ranch', 0.7094665765762329), ('attending', 0.7084495425224304), ('stoke', 0.7082176208496094), ('cannes', 0.7082013487815857)]\n",
      "['athens', 'greece', 'london', 'england'] [('london', 0.8776888251304626), ('manhattan', 0.8314430713653564), ('edinburgh', 0.8259826302528381), ('chicago', 0.8105772733688354), ('boston', 0.8055487871170044), ('brooklyn', 0.7997890114784241), ('philadelphia', 0.7983394265174866), ('bristol', 0.7908076643943787), ('ithaca', 0.7897778153419495), ('manchester', 0.7825024127960205), ('birmingham', 0.7756751775741577), ('glasgow', 0.7678217887878418), ('cincinnati', 0.7676047086715698), ('grove', 0.7651724815368652), ('minneapolis', 0.7650860548019409), ('exeter', 0.7594690918922424), ('hotel', 0.7587134838104248), ('rochester', 0.7532752752304077), ('abbey', 0.7496414184570312), ('atlanta', 0.7495984435081482)]\n",
      "['athens', 'greece', 'beijing', 'china'] [('ithaca', 0.8715311884880066), ('manhattan', 0.8374015688896179), ('beijing', 0.8322710394859314), ('bletchley', 0.8259207606315613), ('fenway', 0.8251023888587952), ('leeds', 0.824026882648468), ('honolulu', 0.8201974034309387), ('exeter', 0.8162944912910461), ('dartmouth', 0.8147969245910645), ('downtown', 0.8133624792098999), ('cardiff', 0.8054579496383667), ('calgary', 0.8043047785758972), ('dayton', 0.8030078411102295), ('disneyland', 0.8014585375785828), ('bristol', 0.8002961874008179), ('wembley', 0.7997007966041565), ('minneapolis', 0.7976694107055664), ('cincinnati', 0.797395646572113), ('heathrow', 0.796903669834137), ('dundee', 0.7966994047164917)]\n",
      "Accuracy: 0.0\n"
     ]
    }
   ],
   "source": [
    "model = Word2Vec.load('./word2vec_models/word2vec_vs50_win2_sg1_ep2.model')\n",
    "questions_words_path = './mini-questions-words.txt'\n",
    "\n",
    "analogies = get_analogies(model, questions_words_path)\n",
    "#print(analogies)\n",
    "\n",
    "avg_distance = 0\n",
    "counter = 0\n",
    "\n",
    "print(\"numero de analogias \", len(analogies))\n",
    "\n",
    "for analogy in analogies:\n",
    "    result_vector = model.wv[analogy[0]] - model.wv[analogy[1]] + model.wv[analogy[2]]\n",
    "    predicted = model.wv.similar_by_vector(result_vector, topn=20, restrict_vocab=None)\n",
    "    predicted_word = next((word for word, _ in predicted if word not in analogy[:3]), None)\n",
    "    if analogy[3] == predicted_word:\n",
    "        counter += 1\n",
    "    else:\n",
    "        print(analogy, predicted)\n",
    "        #verificar se alaogy[3] esta em predicted\n",
    "    avg_distance += model.wv.distance(analogy[3], predicted_word)\n",
    "\n",
    "print(f\"Accuracy: {counter/len(analogies)}\")\n",
    "\n",
    "\n",
    "\n"
   ]
  }
 ],
 "metadata": {
  "kernelspec": {
   "display_name": "Python 3",
   "language": "python",
   "name": "python3"
  },
  "language_info": {
   "codemirror_mode": {
    "name": "ipython",
    "version": 3
   },
   "file_extension": ".py",
   "mimetype": "text/x-python",
   "name": "python",
   "nbconvert_exporter": "python",
   "pygments_lexer": "ipython3",
   "version": "3.10.12"
  }
 },
 "nbformat": 4,
 "nbformat_minor": 2
}
