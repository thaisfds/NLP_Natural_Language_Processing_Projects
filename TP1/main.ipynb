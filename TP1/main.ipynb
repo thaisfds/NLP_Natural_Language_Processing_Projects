{
 "cells": [
  {
   "cell_type": "markdown",
   "metadata": {},
   "source": [
    "# Processamento de Linguagem Natural - Trabalho Prático 1\n",
    "### Thaís Ferreira da Silva - 2021092571"
   ]
  },
  {
   "cell_type": "markdown",
   "metadata": {},
   "source": [
    "### Import"
   ]
  },
  {
   "cell_type": "code",
   "execution_count": 1,
   "metadata": {},
   "outputs": [],
   "source": [
    "# Imports do gensim - para word2vec\n",
    "import gensim\n",
    "from gensim.models import Word2Vec\n",
    "from gensim.models.word2vec import Text8Corpus\n",
    "\n",
    "#Imports do NLTK\n",
    "import nltk\n",
    "from nltk.corpus import stopwords\n",
    "from nltk.stem import WordNetLemmatizer\n",
    "\n",
    "# Imports essenciais\n",
    "import os\n",
    "import random"
   ]
  },
  {
   "cell_type": "markdown",
   "metadata": {},
   "source": [
    "### Preprocessamento do dados de treino"
   ]
  },
  {
   "cell_type": "code",
   "execution_count": 2,
   "metadata": {},
   "outputs": [
    {
     "name": "stdout",
     "output_type": "stream",
     "text": [
      "['anarchism', 'originated', 'as', 'a', 'term', 'of', 'abuse', 'first', 'used', 'against', 'early', 'working', 'class', 'radicals', 'including', 'the', 'diggers', 'of', 'the', 'english', 'revolution', 'and', 'the', 'sans', 'culottes', 'of', 'the', 'french', 'revolution', 'whilst', 'the', 'term', 'is', 'still', 'used', 'in', 'a', 'pejorative', 'way', 'to', 'describe', 'any', 'act', 'that', 'used', 'violent', 'means', 'to', 'destroy', 'the']\n"
     ]
    }
   ],
   "source": [
    "text8_path = './text8'\n",
    "questions_words_path = os.path.abspath('./mini-questions-words.txt')\n",
    "corpus = Text8Corpus(text8_path)\n",
    "\n",
    "# Visualizando as primeiras palavras do corpus\n",
    "sentence = next(iter(corpus))\n",
    "print(sentence[:50])\n",
    "\n"
   ]
  },
  {
   "cell_type": "markdown",
   "metadata": {},
   "source": [
    "### Treinamento do modelo Word2Vec"
   ]
  },
  {
   "cell_type": "code",
   "execution_count": null,
   "metadata": {},
   "outputs": [],
   "source": [
    "def generate_hyperparameter_combinations(param_grid):\n",
    "    from itertools import product\n",
    "    keys, values = zip(*param_grid.items())\n",
    "    combinations = [dict(zip(keys, v)) for v in product(*values)]\n",
    "    return combinations\n"
   ]
  },
  {
   "cell_type": "code",
   "execution_count": 4,
   "metadata": {},
   "outputs": [],
   "source": [
    "def train_and_save_model(corpus, params, output_dir):\n",
    "    model_name = f\"word2vec_vs{params['vector_size']}_win{params['window']}_sg{params['sg']}_ep{params['epochs']}\"\n",
    "    print(f\"Treinando modelo: {model_name}\")\n",
    "    \n",
    "    model = Word2Vec(\n",
    "        sentences=corpus,\n",
    "        vector_size=params['vector_size'],\n",
    "        window=params['window'],\n",
    "        sg=params['sg'],\n",
    "        epochs=params['epochs']\n",
    "    )\n",
    "    \n",
    "    model_path = os.path.join(output_dir, f\"{model_name}.model\")\n",
    "    model.save(model_path)\n",
    "    print(f\"Modelo salvo: {model_path}\")\n",
    "    \n",
    "    return model"
   ]
  },
  {
   "cell_type": "code",
   "execution_count": null,
   "metadata": {},
   "outputs": [],
   "source": [
    "output_dir = './word2vec_models'\n",
    "os.makedirs(output_dir, exist_ok=True)\n",
    "\n",
    "# Hiperparâmetros para o GridSearch\n",
    "# param_grid = {\n",
    "#     'vector_size': [50, 100, 200],      # Tamanho do vetor de palavras\n",
    "#     'window': [3, 5, 7],                # Tamanho da janela de contexto\n",
    "#     'sg': [0, 1],                      # CBOW (0) ou Skip-gram (1)\n",
    "#     'epochs': [5, 10, 15],             # Número de iterações de treinamento\n",
    "# }\n",
    "\n",
    "param_grid = {\n",
    "    'vector_size': [50],      # Tamanho do vetor de palavras\n",
    "    'window': [2],                # Tamanho da janela de contexto\n",
    "    'sg': [1],                      # CBOW (0) ou Skip-gram (1)\n",
    "    'epochs': [1],             # Número de iterações de treinamento\n",
    "}\n",
    "\n",
    "# Gerar combinações de hiperparâmetros\n",
    "combinations = generate_hyperparameter_combinations(param_grid)"
   ]
  },
  {
   "cell_type": "code",
   "execution_count": 6,
   "metadata": {},
   "outputs": [
    {
     "name": "stdout",
     "output_type": "stream",
     "text": [
      "\n",
      "Treinando combinação 1/1: {'vector_size': 50, 'window': 2, 'sg': 1, 'epochs': 1}\n",
      "\n",
      "Treinando modelo: word2vec_vs50_win2_sg1_ep1\n",
      "Modelo salvo: ./word2vec_models/word2vec_vs50_win2_sg1_ep1.model\n"
     ]
    }
   ],
   "source": [
    "for i, params in enumerate(combinations):\n",
    "    print(f\"\\nTreinando combinação {i+1}/{len(combinations)}: {params}\\n\")\n",
    "    model = train_and_save_model(corpus, params, output_dir)"
   ]
  },
  {
   "cell_type": "markdown",
   "metadata": {},
   "source": [
    "### Avaliação do modelo treinado"
   ]
  },
  {
   "cell_type": "code",
   "execution_count": 7,
   "metadata": {},
   "outputs": [],
   "source": [
    "stop_words = stopwords.words('english')\n",
    "lemmatizer = WordNetLemmatizer()"
   ]
  },
  {
   "cell_type": "code",
   "execution_count": 8,
   "metadata": {},
   "outputs": [],
   "source": [
    "def preprocessWord(word):\n",
    "    if word is not None:\n",
    "        word = word.lower().strip()\n",
    "        if word in stop_words:\n",
    "            return None\n",
    "        word = lemmatizer.lemmatize(word)\n",
    "\n",
    "    return word"
   ]
  },
  {
   "cell_type": "code",
   "execution_count": 53,
   "metadata": {},
   "outputs": [],
   "source": [
    "def get_analogies(model, questions_words_path):\n",
    "    final_analogies = []\n",
    "    with open(questions_words_path, 'r') as f:\n",
    "        for line in f:\n",
    "            if line.startswith(':'):\n",
    "                continue\n",
    "\n",
    "            words = [preprocessWord(word) for word in line.split()]\n",
    "            target = words[3]\n",
    "\n",
    "            if target not in model.wv:\n",
    "                continue\n",
    "\n",
    "            final_words = [word for word in words if word in model.wv]\n",
    "\n",
    "            if final_words:\n",
    "                final_analogies.append(final_words + [target])\n",
    "    \n",
    "    random.shuffle(final_analogies)\n",
    "    return final_analogies[:500]"
   ]
  },
  {
   "cell_type": "code",
   "execution_count": 54,
   "metadata": {},
   "outputs": [],
   "source": [
    "def distanceToMostSimilarWord(model, input_words: list, true_word: str) -> float:\n",
    "    similar_words = model.wv.most_similar(input_words)\n",
    "    most_similar_word = similar_words[0][0]\n",
    "    return model.wv.distance(true_word, most_similar_word)\n"
   ]
  },
  {
   "cell_type": "code",
   "execution_count": 1,
   "metadata": {},
   "outputs": [
    {
     "ename": "NameError",
     "evalue": "name 'Word2Vec' is not defined",
     "output_type": "error",
     "traceback": [
      "\u001b[0;31m---------------------------------------------------------------------------\u001b[0m",
      "\u001b[0;31mNameError\u001b[0m                                 Traceback (most recent call last)",
      "Cell \u001b[0;32mIn[1], line 1\u001b[0m\n\u001b[0;32m----> 1\u001b[0m model \u001b[38;5;241m=\u001b[39m \u001b[43mWord2Vec\u001b[49m\u001b[38;5;241m.\u001b[39mload(\u001b[38;5;124m'\u001b[39m\u001b[38;5;124m./word2vec_models/word2vec_vs50_win2_sg1_ep1.model\u001b[39m\u001b[38;5;124m'\u001b[39m)\n\u001b[1;32m      2\u001b[0m questions_words_path \u001b[38;5;241m=\u001b[39m \u001b[38;5;124m'\u001b[39m\u001b[38;5;124m./mini-questions-words.txt\u001b[39m\u001b[38;5;124m'\u001b[39m\n\u001b[1;32m      4\u001b[0m analogies \u001b[38;5;241m=\u001b[39m get_analogies(model, questions_words_path)\n",
      "\u001b[0;31mNameError\u001b[0m: name 'Word2Vec' is not defined"
     ]
    }
   ],
   "source": [
    "model = Word2Vec.load('./word2vec_models/word2vec_vs50_win2_sg1_ep1.model')\n",
    "questions_words_path = './mini-questions-words.txt'\n",
    "\n",
    "analogies = get_analogies(model, questions_words_path)\n",
    "print(analogies)\n",
    "\n",
    "avg_distance = 0\n",
    "counter = 0\n",
    "\n",
    "print(\"numero de analogias \", len(analogies))\n"
   ]
  }
 ],
 "metadata": {
  "kernelspec": {
   "display_name": "Python 3",
   "language": "python",
   "name": "python3"
  },
  "language_info": {
   "codemirror_mode": {
    "name": "ipython",
    "version": 3
   },
   "file_extension": ".py",
   "mimetype": "text/x-python",
   "name": "python",
   "nbconvert_exporter": "python",
   "pygments_lexer": "ipython3",
   "version": "3.10.12"
  }
 },
 "nbformat": 4,
 "nbformat_minor": 2
}
