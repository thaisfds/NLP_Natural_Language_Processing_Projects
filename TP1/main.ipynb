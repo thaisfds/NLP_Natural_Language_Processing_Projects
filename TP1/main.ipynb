{
 "cells": [
  {
   "cell_type": "markdown",
   "metadata": {},
   "source": [
    "# Processamento de Linguagem Natural - Trabalho Prático 1\n",
    "### Thaís Ferreira da Silva - 2021092571"
   ]
  },
  {
   "cell_type": "markdown",
   "metadata": {},
   "source": [
    "### Import"
   ]
  },
  {
   "cell_type": "code",
   "execution_count": null,
   "metadata": {},
   "outputs": [],
   "source": [
    "# Imports do gensim - para word2vec\n",
    "import gensim\n",
    "from gensim.models import Word2Vec\n",
    "from gensim.models.word2vec import Text8Corpus\n",
    "\n",
    "# Imports essenciais\n",
    "from scipy.spatial.distance import cosine\n",
    "import os\n",
    "import random"
   ]
  },
  {
   "cell_type": "markdown",
   "metadata": {},
   "source": [
    "### Funções Auxiliares"
   ]
  },
  {
   "cell_type": "code",
   "execution_count": null,
   "metadata": {},
   "outputs": [],
   "source": [
    "def generate_hyperparameter_combinations(param_grid):\n",
    "    from itertools import product\n",
    "    keys, values = zip(*param_grid.items())\n",
    "    combinations = [dict(zip(keys, v)) for v in product(*values)]\n",
    "    return combinations\n"
   ]
  },
  {
   "cell_type": "code",
   "execution_count": null,
   "metadata": {},
   "outputs": [],
   "source": [
    "def train_and_save_model(corpus, params, output_dir):\n",
    "    model_name = f\"word2vec_vs{params['vector_size']}_win{params['window']}_sg{params['sg']}_ep{params['epochs']}\"\n",
    "    print(f\"Treinando modelo: {model_name}\")\n",
    "    \n",
    "    model = Word2Vec(\n",
    "        sentences=corpus,\n",
    "        vector_size=params['vector_size'],\n",
    "        window=params['window'],\n",
    "        sg=params['sg'],\n",
    "        epochs=params['epochs']\n",
    "    )\n",
    "    \n",
    "    model_path = os.path.join(output_dir, f\"{model_name}.model\")\n",
    "    model.save(model_path)\n",
    "    print(f\"Modelo salvo: {model_path}\")\n",
    "    \n",
    "    return model"
   ]
  },
  {
   "cell_type": "code",
   "execution_count": null,
   "metadata": {},
   "outputs": [],
   "source": [
    "def get_analogies(model, questions_words_path):\n",
    "    final_analogies = []\n",
    "    with open(questions_words_path, 'r') as f:\n",
    "        for line in f:\n",
    "            if line.startswith(':'):\n",
    "                continue\n",
    "\n",
    "            words = [word.lower().strip() for word in line.split()]\n",
    "\n",
    "            final_words = [word for word in words if word in model.wv]\n",
    "            final_analogies.append(final_words)\n",
    "    \n",
    "    random.shuffle(final_analogies)\n",
    "    return final_analogies"
   ]
  },
  {
   "cell_type": "markdown",
   "metadata": {},
   "source": [
    "### Preprocessamento do dados de treino"
   ]
  },
  {
   "cell_type": "code",
   "execution_count": null,
   "metadata": {},
   "outputs": [],
   "source": [
    "text8_path = './text8'\n",
    "corpus = Text8Corpus(text8_path)\n",
    "\n",
    "sentence = next(iter(corpus))\n",
    "print(sentence[:50])\n"
   ]
  },
  {
   "cell_type": "markdown",
   "metadata": {},
   "source": [
    "### Treinamento do modelo Word2Vec"
   ]
  },
  {
   "cell_type": "code",
   "execution_count": null,
   "metadata": {},
   "outputs": [],
   "source": [
    "output_dir = './word2vec_models'\n",
    "os.makedirs(output_dir, exist_ok=True)\n",
    "\n",
    "# Hiperparâmetros para o GridSearch\n",
    "# param_grid = {\n",
    "#     'vector_size': [50, 100, 200],      # Tamanho do vetor de palavras\n",
    "#     'window': [3, 5, 7],                # Tamanho da janela de contexto\n",
    "#     'sg': [0, 1],                      # CBOW (0) ou Skip-gram (1)\n",
    "#     'epochs': [5, 10, 15],             # Número de iterações de treinamento\n",
    "# }\n",
    "\n",
    "param_grid = {\n",
    "    'vector_size': [50],      # Tamanho do vetor de palavras\n",
    "    'window': [3, 5, 7],                # Tamanho da janela de contexto\n",
    "    'sg': [0, 1],                      # CBOW (0) ou Skip-gram (1)\n",
    "    'epochs': [5],             # Número de iterações de treinamento\n",
    "}\n",
    "\n",
    "combinations = generate_hyperparameter_combinations(param_grid)\n",
    "\n",
    "for i, params in enumerate(combinations):\n",
    "    print(f\"\\nTreinando combinação {i+1}/{len(combinations)}: {params}\\n\")\n",
    "    model = train_and_save_model(corpus, params, output_dir)"
   ]
  },
  {
   "cell_type": "markdown",
   "metadata": {},
   "source": [
    "### Avaliação do modelo treinado"
   ]
  },
  {
   "cell_type": "code",
   "execution_count": null,
   "metadata": {},
   "outputs": [],
   "source": [
    "def evaluate_analogies(model, analogies):\n",
    "    avg_distance = 0\n",
    "    counter = 0\n",
    "    cosine_vec = []\n",
    "\n",
    "    #print(\"numero de analogias \", len(analogies))\n",
    "\n",
    "    for analogy in analogies:\n",
    "        result_vector = model.wv[analogy[1]] - model.wv[analogy[0]] + model.wv[analogy[2]]\n",
    "        predicted = model.wv.similar_by_vector(result_vector, topn=20, restrict_vocab=None)\n",
    "        predicted_word = next((word for word, _ in predicted if word not in analogy[:3]), None)\n",
    "        if analogy[3] == predicted_word:\n",
    "            counter += 1\n",
    "        # else:\n",
    "        #     print(f\"Analogias: {analogy}, Previsão: {predicted}, Palavra prevista: {predicted_word}, Esperado: {analogy[3]}\\n\")\n",
    "        cosine_distance = cosine(model.wv[analogy[3]], model.wv[predicted_word])\n",
    "        cosine_vec.append(cosine_distance)\n",
    "        avg_distance += cosine_distance\n",
    "        accuracy = counter/len(analogies)\n",
    "\n",
    "    return accuracy, cosine_vec"
   ]
  },
  {
   "cell_type": "code",
   "execution_count": null,
   "metadata": {},
   "outputs": [],
   "source": [
    "# model = Word2Vec.load('./word2vec_models/word2vec_vs50_win2_sg1_ep2.model')\n",
    "# questions_words_path = './mini-questions-words.txt'\n",
    "\n",
    "# analogies = get_analogies(model, questions_words_path)\n",
    "\n",
    "# accuracy = evaluate_analogies(model, analogies)\n",
    "\n",
    "# print(f\"Accuracy: {accuracy}\")\n"
   ]
  },
  {
   "cell_type": "code",
   "execution_count": null,
   "metadata": {},
   "outputs": [],
   "source": [
    "#para cada modelo treinado, avaliar as analogias\n",
    "#pegar os modelos da pasta\n",
    "questions_words_path = './mini-questions-words.txt'\n",
    "analogies = get_analogies(model, questions_words_path)\n",
    "print(\"numero de analogias \", len(analogies))\n",
    "\n",
    "\n",
    "models = os.listdir(output_dir)\n",
    "models = [model for model in models if model.endswith('.model')]\n",
    "\n",
    "for model_name in models:\n",
    "    model = Word2Vec.load(os.path.join(output_dir, model_name))\n",
    "    accuracy, cosine_vec = evaluate_analogies(model, analogies)\n",
    "    print(f\"vector_size: {model.vector_size}, window: {model.window}, sg: {model.sg}, epochs: {model.epochs} ---> Accuracy: {accuracy}\")\n",
    "    # formatted_cosine_vec = [f\"{value:.5f}\" for value in cosine_vec]\n",
    "    # print(\"Cosine Vec:\", formatted_cosine_vec)\n"
   ]
  }
 ],
 "metadata": {
  "kernelspec": {
   "display_name": "Python 3",
   "language": "python",
   "name": "python3"
  },
  "language_info": {
   "codemirror_mode": {
    "name": "ipython",
    "version": 3
   },
   "file_extension": ".py",
   "mimetype": "text/x-python",
   "name": "python",
   "nbconvert_exporter": "python",
   "pygments_lexer": "ipython3",
   "version": "3.10.12"
  }
 },
 "nbformat": 4,
 "nbformat_minor": 2
}
