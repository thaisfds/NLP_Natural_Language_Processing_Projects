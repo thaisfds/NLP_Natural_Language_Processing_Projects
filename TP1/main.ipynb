{
 "cells": [
  {
   "cell_type": "markdown",
   "metadata": {},
   "source": [
    "# Processamento de Linguagem Natural - Trabalho Prático 1\n",
    "### Thaís Ferreira da Silva - 2021092571"
   ]
  },
  {
   "cell_type": "markdown",
   "metadata": {},
   "source": [
    "### Import"
   ]
  },
  {
   "cell_type": "code",
   "execution_count": 67,
   "metadata": {},
   "outputs": [],
   "source": [
    "# Imports do gensim - para word2vec\n",
    "import gensim\n",
    "from gensim.models import Word2Vec\n",
    "from gensim.models.word2vec import Text8Corpus\n",
    "\n",
    "#Imports do NLTK\n",
    "import nltk\n",
    "from nltk.corpus import stopwords\n",
    "from nltk.stem import WordNetLemmatizer\n",
    "\n",
    "# Imports essenciais\n",
    "import os\n",
    "import random"
   ]
  },
  {
   "cell_type": "markdown",
   "metadata": {},
   "source": [
    "### Preprocessamento do dados de treino"
   ]
  },
  {
   "cell_type": "code",
   "execution_count": 68,
   "metadata": {},
   "outputs": [
    {
     "name": "stdout",
     "output_type": "stream",
     "text": [
      "['anarchism', 'originated', 'as', 'a', 'term', 'of', 'abuse', 'first', 'used', 'against', 'early', 'working', 'class', 'radicals', 'including', 'the', 'diggers', 'of', 'the', 'english', 'revolution', 'and', 'the', 'sans', 'culottes', 'of', 'the', 'french', 'revolution', 'whilst', 'the', 'term', 'is', 'still', 'used', 'in', 'a', 'pejorative', 'way', 'to', 'describe', 'any', 'act', 'that', 'used', 'violent', 'means', 'to', 'destroy', 'the']\n"
     ]
    }
   ],
   "source": [
    "text8_path = './text8'\n",
    "questions_words_path = os.path.abspath('./mini-questions-words.txt')\n",
    "corpus = Text8Corpus(text8_path)\n",
    "\n",
    "# Visualizando as primeiras palavras do corpus\n",
    "sentence = next(iter(corpus))\n",
    "print(sentence[:50])\n",
    "\n"
   ]
  },
  {
   "cell_type": "markdown",
   "metadata": {},
   "source": [
    "### Treinamento do modelo Word2Vec"
   ]
  },
  {
   "cell_type": "code",
   "execution_count": 69,
   "metadata": {},
   "outputs": [],
   "source": [
    "def generate_hyperparameter_combinations(param_grid):\n",
    "    \"\"\"Gera todas as combinações de hiperparâmetros\"\"\"\n",
    "    from itertools import product\n",
    "    keys, values = zip(*param_grid.items())\n",
    "    combinations = [dict(zip(keys, v)) for v in product(*values)]\n",
    "    return combinations\n"
   ]
  },
  {
   "cell_type": "code",
   "execution_count": 70,
   "metadata": {},
   "outputs": [],
   "source": [
    "def train_and_save_model(corpus, params, output_dir):\n",
    "    model_name = f\"word2vec_vs{params['vector_size']}_win{params['window']}_sg{params['sg']}_ep{params['epochs']}\"\n",
    "    print(f\"Treinando modelo: {model_name}\")\n",
    "    \n",
    "    model = Word2Vec(\n",
    "        sentences=corpus,\n",
    "        vector_size=params['vector_size'],\n",
    "        window=params['window'],\n",
    "        sg=params['sg'],\n",
    "        epochs=params['epochs'],\n",
    "        workers=4\n",
    "    )\n",
    "    \n",
    "    model_path = os.path.join(output_dir, f\"{model_name}.model\")\n",
    "    model.save(model_path)\n",
    "    print(f\"Modelo salvo: {model_path}\")\n",
    "    \n",
    "    return model"
   ]
  },
  {
   "cell_type": "code",
   "execution_count": 71,
   "metadata": {},
   "outputs": [],
   "source": [
    "output_dir = './word2vec_models'\n",
    "os.makedirs(output_dir, exist_ok=True)\n",
    "\n",
    "# Hiperparâmetros para o GridSearch\n",
    "# param_grid = {\n",
    "#     'vector_size': [50, 100, 200],      # Tamanho do vetor de palavras\n",
    "#     'window': [3, 5, 7],                # Tamanho da janela de contexto\n",
    "#     'sg': [0, 1],                      # CBOW (0) ou Skip-gram (1)\n",
    "#     'epochs': [5, 10, 15],             # Número de iterações de treinamento\n",
    "# }\n",
    "\n",
    "param_grid = {\n",
    "    'vector_size': [50],      # Tamanho do vetor de palavras\n",
    "    'window': [2],                # Tamanho da janela de contexto\n",
    "    'sg': [1],                      # CBOW (0) ou Skip-gram (1)\n",
    "    'epochs': [1],             # Número de iterações de treinamento\n",
    "}\n",
    "\n",
    "# Gerar combinações de hiperparâmetros\n",
    "combinations = generate_hyperparameter_combinations(param_grid)\n",
    "results_summary = []"
   ]
  },
  {
   "cell_type": "code",
   "execution_count": 72,
   "metadata": {},
   "outputs": [
    {
     "name": "stdout",
     "output_type": "stream",
     "text": [
      "\n",
      "Treinando combinação 1/1: {'vector_size': 50, 'window': 2, 'sg': 1, 'epochs': 1}\n",
      "\n",
      "Treinando modelo: word2vec_vs50_win2_sg1_ep1\n",
      "Modelo salvo: ./word2vec_models/word2vec_vs50_win2_sg1_ep1.model\n"
     ]
    }
   ],
   "source": [
    "for i, params in enumerate(combinations):\n",
    "    print(f\"\\nTreinando combinação {i+1}/{len(combinations)}: {params}\\n\")\n",
    "    model = train_and_save_model(corpus, params, output_dir)"
   ]
  },
  {
   "cell_type": "markdown",
   "metadata": {},
   "source": [
    "### Avaliação do modelo treinado"
   ]
  },
  {
   "cell_type": "code",
   "execution_count": 73,
   "metadata": {},
   "outputs": [],
   "source": [
    "stop_words = stopwords.words('english')\n",
    "lemmatizer = WordNetLemmatizer()"
   ]
  },
  {
   "cell_type": "code",
   "execution_count": 74,
   "metadata": {},
   "outputs": [],
   "source": [
    "def preprocessWord(word):\n",
    "    if word is not None:\n",
    "        word = word.lower().strip()\n",
    "        if word in stop_words:\n",
    "            return None\n",
    "        word = lemmatizer.lemmatize(word)\n",
    "\n",
    "    return word"
   ]
  },
  {
   "cell_type": "code",
   "execution_count": 75,
   "metadata": {},
   "outputs": [],
   "source": [
    "def get_analogies(model, questions_words_path):\n",
    "    final_analogies = []\n",
    "    with open(questions_words_path, 'r') as f:\n",
    "        for line in f:\n",
    "            print(line)\n",
    "            if line.startswith(':'):\n",
    "                category = line.strip().split()[1]\n",
    "                continue\n",
    "\n",
    "            words = line.split()\n",
    "            print(words)\n",
    "\n",
    "            words = [preprocessWord(word) for word in words]\n",
    "            target = preprocessWord(line[3])\n",
    "\n",
    "            if target is None or target not in model.wv:\n",
    "                continue\n",
    "\n",
    "            final_words = []\n",
    "            for word in words:\n",
    "                if word in model.wv:\n",
    "                    final_words.append(word)\n",
    "\n",
    "            if len(final_words) == 0:\n",
    "                final_analogies.append(final_words + [target])\n",
    "    \n",
    "    random.shuffle(final_analogies)\n",
    "\n",
    "    print(f\"Analogias encontradas: {len(final_analogies)}\")\n",
    "    return final_analogies[:500]\n"
   ]
  },
  {
   "cell_type": "code",
   "execution_count": 76,
   "metadata": {},
   "outputs": [],
   "source": [
    "def distanceToMostSimilarWord(model, input_words: list, true_word: str) -> float:\n",
    "    similar_words = model.wv.most_similar(input_words)\n",
    "    most_similar_word = similar_words[0][0]\n",
    "    return model.wv.distance(true_word, most_similar_word)\n"
   ]
  },
  {
   "cell_type": "code",
   "execution_count": 78,
   "metadata": {},
   "outputs": [
    {
     "name": "stdout",
     "output_type": "stream",
     "text": [
      ": capital-common-countries\n",
      "\n",
      "Athens Greece Baghdad Iraq\n",
      "\n",
      "['Athens', 'Greece', 'Baghdad', 'Iraq']\n",
      "Athens Greece Bangkok Thailand\n",
      "\n",
      "['Athens', 'Greece', 'Bangkok', 'Thailand']\n",
      "Athens Greece Beijing China\n",
      "\n",
      "['Athens', 'Greece', 'Beijing', 'China']\n",
      "Athens Greece Berlin Germany\n",
      "\n",
      "['Athens', 'Greece', 'Berlin', 'Germany']\n",
      "Athens Greece Bern Switzerland\n",
      "\n",
      "['Athens', 'Greece', 'Bern', 'Switzerland']\n",
      "Athens Greece Cairo Egypt\n",
      "\n",
      "['Athens', 'Greece', 'Cairo', 'Egypt']\n",
      "Athens Greece Canberra Australia\n",
      "\n",
      "['Athens', 'Greece', 'Canberra', 'Australia']\n",
      "Athens Greece Hanoi Vietnam\n",
      "\n",
      "['Athens', 'Greece', 'Hanoi', 'Vietnam']\n",
      "Athens Greece Havana Cuba\n",
      "\n",
      "['Athens', 'Greece', 'Havana', 'Cuba']\n",
      "Athens Greece Helsinki Finland\n",
      "\n",
      "['Athens', 'Greece', 'Helsinki', 'Finland']\n",
      "Athens Greece Islamabad Pakistan\n",
      "\n",
      "['Athens', 'Greece', 'Islamabad', 'Pakistan']\n",
      "Athens Greece Kabul Afghanistan\n",
      "\n",
      "['Athens', 'Greece', 'Kabul', 'Afghanistan']\n",
      "Athens Greece London England\n",
      "\n",
      "['Athens', 'Greece', 'London', 'England']\n",
      "Athens Greece Madrid Spain\n",
      "\n",
      "['Athens', 'Greece', 'Madrid', 'Spain']\n",
      "Athens Greece Moscow Russia\n",
      "\n",
      "['Athens', 'Greece', 'Moscow', 'Russia']\n",
      "Athens Greece Oslo Norway\n",
      "\n",
      "['Athens', 'Greece', 'Oslo', 'Norway']\n",
      "Athens Greece Ottawa Canada\n",
      "\n",
      "['Athens', 'Greece', 'Ottawa', 'Canada']\n",
      "Athens Greece Paris France\n",
      "\n",
      "['Athens', 'Greece', 'Paris', 'France']\n",
      "Athens Greece Rome Italy\n",
      "\n",
      "['Athens', 'Greece', 'Rome', 'Italy']\n",
      "Athens Greece Stockholm Sweden\n",
      "\n",
      "['Athens', 'Greece', 'Stockholm', 'Sweden']\n",
      "Athens Greece Tehran Iran\n",
      "\n",
      "['Athens', 'Greece', 'Tehran', 'Iran']\n",
      "Athens Greece Tokyo Japan\n",
      "['Athens', 'Greece', 'Tokyo', 'Japan']\n",
      "Analogias encontradas: 0\n",
      "[]\n",
      "numero de analogias  0\n",
      "A distância média entre a palavra correta e a mais similar é: 0\n"
     ]
    }
   ],
   "source": [
    "model = Word2Vec.load('./word2vec_models/word2vec_vs50_win2_sg1_ep1.model')\n",
    "questions_words_path = './mini-questions-words.txt'\n",
    "\n",
    "analogies = get_analogies(model, questions_words_path)\n",
    "print(analogies)\n",
    "\n",
    "avg_distance = 0\n",
    "counter = 0\n",
    "\n",
    "print(\"numero de analogias \", len(analogies))\n",
    "\n",
    "for analogy in analogies:\n",
    "    counter += 1\n",
    "    words = analogy[:-1]\n",
    "    target = analogy[-1]\n",
    "\n",
    "    distance = distanceToMostSimilarWord(model, words, target)\n",
    "    avg_distance += distance\n",
    "\n",
    "\n",
    "print(f\"A distância média entre a palavra correta e a mais similar é: {avg_distance}\")"
   ]
  }
 ],
 "metadata": {
  "kernelspec": {
   "display_name": "Python 3",
   "language": "python",
   "name": "python3"
  },
  "language_info": {
   "codemirror_mode": {
    "name": "ipython",
    "version": 3
   },
   "file_extension": ".py",
   "mimetype": "text/x-python",
   "name": "python",
   "nbconvert_exporter": "python",
   "pygments_lexer": "ipython3",
   "version": "3.10.12"
  }
 },
 "nbformat": 4,
 "nbformat_minor": 2
}
